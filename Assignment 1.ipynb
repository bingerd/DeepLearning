{
 "cells": [
  {
   "cell_type": "markdown",
   "metadata": {},
   "source": [
    "# Deep Learning Assignment 1"
   ]
  },
  {
   "cell_type": "code",
   "execution_count": 3,
   "metadata": {},
   "outputs": [],
   "source": [
    "import math\n",
    "import matplotlib.pyplot as plt\n",
    "import mnist\n",
    "import random\n",
    "import statistics as stat\n",
    "from random import randint\n",
    "from math import sqrt\n",
    "import pstats\n",
    "# -- assignment 1 --\n",
    "import numpy as np\n",
    "from urllib import request\n",
    "import gzip\n",
    "import pickle\n",
    "import os\n",
    "\n",
    "def load_synth(num_train=60_000, num_val=10_000, seed=0):\n",
    "    \"\"\"\n",
    "    Load some very basic synthetic data that should be easy to classify. Two features, so that we can plot the\n",
    "    decision boundary (which is an ellipse in the feature space).\n",
    "    :param num_train: Number of training instances\n",
    "    :param num_val: Number of test/validation instances\n",
    "    :param num_features: Number of features per instance\n",
    "    :return: Two tuples and an integer: (xtrain, ytrain), (xval, yval), num_cls. The first contains a matrix of training\n",
    "     data with 2 features as a numpy floating point array, and the corresponding classification labels as a numpy\n",
    "     integer array. The second contains the test/validation data in the same format. The last integer contains the\n",
    "     number of classes (this is always 2 for this function).\n",
    "    \"\"\"\n",
    "    np.random.seed(seed)\n",
    "\n",
    "    THRESHOLD = 0.6\n",
    "    quad = np.asarray([[1, -0.05], [1, .4]])\n",
    "\n",
    "    ntotal = num_train + num_val\n",
    "\n",
    "    x = np.random.randn(ntotal, 2)\n",
    "\n",
    "    # compute the quadratic form\n",
    "    q = np.einsum('bf, fk, bk -> b', x, quad, x)\n",
    "    y = (q > THRESHOLD).astype(np.int)\n",
    "\n",
    "    return (x[:num_train, :], y[:num_train]), (x[num_train:, :], y[num_train:]), 2\n",
    "\n",
    "def load_mnist(final=False, flatten=True):\n",
    "    \"\"\"\n",
    "    Load the MNIST data.\n",
    "    :param final: If true, return the canonical test/train split. If false, split some validation data from the training\n",
    "       data and keep the test data hidden.\n",
    "    :param flatten: If true, each instance is flattened into a vector, so that the data is returns as a matrix with 768\n",
    "        columns. If false, the data is returned as a 3-tensor preserving each image as a matrix.\n",
    "    :return: Two tuples and an integer: (xtrain, ytrain), (xval, yval), num_cls. The first contains a matrix of training\n",
    "     data and the corresponding classification labels as a numpy integer array. The second contains the test/validation\n",
    "     data in the same format. The last integer contains the number of classes (this is always 2 for this function).\n",
    "     \"\"\"\n",
    "\n",
    "    if not os.path.isfile('mnist.pkl'):\n",
    "        init()\n",
    "\n",
    "    xtrain, ytrain, xtest, ytest = load()\n",
    "    xtl, xsl = xtrain.shape[0], xtest.shape[0]\n",
    "\n",
    "    if flatten:\n",
    "        xtrain = xtrain.reshape(xtl, -1)\n",
    "        xtest  = xtest.reshape(xsl, -1)\n",
    "\n",
    "    if not final: # return the flattened images\n",
    "        return (xtrain[:-5000], ytrain[:-5000]), (xtrain[-5000:], ytrain[-5000:]), 10\n",
    "\n",
    "    return (xtrain, ytrain), (xtest, ytest), 10\n",
    "\n",
    "# Numpy-only MNIST loader. Courtesy of Hyeonseok Jung\n",
    "# https://github.com/hsjeong5/MNIST-for-Numpy\n",
    "\n",
    "filename = [\n",
    "[\"training_images\",\"train-images-idx3-ubyte.gz\"],\n",
    "[\"test_images\",\"t10k-images-idx3-ubyte.gz\"],\n",
    "[\"training_labels\",\"train-labels-idx1-ubyte.gz\"],\n",
    "[\"test_labels\",\"t10k-labels-idx1-ubyte.gz\"]\n",
    "]\n",
    "\n",
    "def download_mnist():\n",
    "    base_url = \"http://yann.lecun.com/exdb/mnist/\"\n",
    "    for name in filename:\n",
    "        print(\"Downloading \"+name[1]+\"...\")\n",
    "        request.urlretrieve(base_url+name[1], name[1])\n",
    "    print(\"Download complete.\")\n",
    "\n",
    "def save_mnist():\n",
    "    mnist = {}\n",
    "    for name in filename[:2]:\n",
    "        with gzip.open(name[1], 'rb') as f:\n",
    "            mnist[name[0]] = np.frombuffer(f.read(), np.uint8, offset=16).reshape(-1,28*28)\n",
    "    for name in filename[-2:]:\n",
    "        with gzip.open(name[1], 'rb') as f:\n",
    "            mnist[name[0]] = np.frombuffer(f.read(), np.uint8, offset=8)\n",
    "    with open(\"mnist.pkl\", 'wb') as f:\n",
    "        pickle.dump(mnist,f)\n",
    "    print(\"Save complete.\")\n",
    "\n",
    "def init():\n",
    "    download_mnist()\n",
    "    save_mnist()\n",
    "\n",
    "def load():\n",
    "    with open(\"mnist.pkl\",'rb') as f:\n",
    "        mnist = pickle.load(f)\n",
    "    return mnist[\"training_images\"], mnist[\"training_labels\"], mnist[\"test_images\"], mnist[\"test_labels\"]"
   ]
  },
  {
   "cell_type": "code",
   "execution_count": 4,
   "metadata": {},
   "outputs": [],
   "source": [
    "def sigmoid(z):\n",
    "    if z>=0:\n",
    "        return 1/(1+math.exp(-z))\n",
    "    else:\n",
    "        return math.exp(z)/(1+math.exp(z))\n",
    "\n",
    "def softmax(x): \n",
    "    total_sum = sum([math.exp(item) for item in x])\n",
    "    row = []\n",
    "    for item in x:\n",
    "        row.append(math.exp(item)/total_sum)\n",
    "    return row\n",
    "\n",
    "def transpose(x):\n",
    "    return list(map(list, zip(*x)))\n",
    "\n",
    "def loss_function(y, t):\n",
    "    l = 0\n",
    "    for i in range(len(y)):\n",
    "        l += t[i]*(-math.log(y[i]))\n",
    "    return l"
   ]
  },
  {
   "cell_type": "code",
   "execution_count": 5,
   "metadata": {},
   "outputs": [],
   "source": [
    "W = [[1., 1., 1.], [-1., -1., -1.]]\n",
    "V = [[1.,1.],[-1.,-1.],[-1.,-1.]]\n",
    "b = [0.,0.,0.]\n",
    "c = [0.,0.]\n",
    "X = [1, -1]\n",
    "Y = [1, 0]\n",
    "param = W, b, V, c"
   ]
  },
  {
   "cell_type": "code",
   "execution_count": 6,
   "metadata": {},
   "outputs": [],
   "source": [
    "def propagate(param, X, t):\n",
    "    \n",
    "    W, b, V, c = param\n",
    "    \n",
    "    # Forward Layer\n",
    "    k = [sum([x*y for x,y in zip(X,row)]) for row in transpose(W)]\n",
    "    k = [i+j for i ,j in zip(k, b)]\n",
    "    h = [sigmoid(i) for i in k]\n",
    "    \n",
    "    ## Second layer:\n",
    "    o = [sum([x*y for x,y in zip(h,row)]) for row in transpose(V)]\n",
    "    o = [i+j for i,j in zip(o, c)]\n",
    "    y = softmax(o)\n",
    "    cost = loss_function(y, t)\n",
    "    \n",
    "   \n",
    "    do = [i-j for i,j in zip(y,t)]\n",
    "    dc = do\n",
    "    dV = [[i*y for i in do] for y in h] \n",
    "    dh = [sum([x*y for x,y in zip(do,row)]) for row in V]\n",
    "    dz = [i*(1-i) for i in h]\n",
    "    dz = [x*y for x,y in zip(dz, dh)] # ?\n",
    "    dW = [[i*y for y in dz] for i in X]\n",
    "    db = dz\n",
    "\n",
    "    grads = (dW, db, dV, dc)    \n",
    "    \n",
    "    return grads, cost, y\n",
    "    "
   ]
  },
  {
   "cell_type": "code",
   "execution_count": 7,
   "metadata": {},
   "outputs": [
    {
     "name": "stdout",
     "output_type": "stream",
     "text": [
      "Wall time: 0 ns\n"
     ]
    }
   ],
   "source": [
    "%%time\n",
    "param = (W, b, V, c)\n",
    "grads, cost, y_pred = propagate(param, X, Y)"
   ]
  },
  {
   "cell_type": "code",
   "execution_count": 8,
   "metadata": {},
   "outputs": [
    {
     "data": {
      "text/plain": [
       "([[0.0, 0.0, 0.0], [-0.0, -0.0, -0.0]],\n",
       " [0.0, 0.0, 0.0],\n",
       " [[-0.44039853898894116, 0.44039853898894116],\n",
       "  [-0.44039853898894116, 0.44039853898894116],\n",
       "  [-0.44039853898894116, 0.44039853898894116]],\n",
       " [-0.5, 0.5])"
      ]
     },
     "execution_count": 8,
     "metadata": {},
     "output_type": "execute_result"
    }
   ],
   "source": [
    "grads"
   ]
  },
  {
   "cell_type": "markdown",
   "metadata": {},
   "source": [
    "## Q3 Show that the loss decreases"
   ]
  },
  {
   "cell_type": "code",
   "execution_count": 9,
   "metadata": {},
   "outputs": [],
   "source": [
    "def update_param(param, grads, alpha):\n",
    "    W, b, V, c = param\n",
    "    dW, db, dV, dc = grads\n",
    "\n",
    "    W = [[i-alpha*j for i,j in zip(p,r)] for p,r in zip(W, dW)]\n",
    "    b = [i-alpha*j for i,j in zip(b, db)]\n",
    "    V = [[i-alpha*j for i,j in zip(p,r)] for p,r in zip(V, dV)]\n",
    "    c = [i-alpha*j for i,j in zip(c, dc)]\n",
    "    param = W, b, V, c\n",
    "    \n",
    "    return param"
   ]
  },
  {
   "cell_type": "code",
   "execution_count": 10,
   "metadata": {},
   "outputs": [
    {
     "name": "stdout",
     "output_type": "stream",
     "text": [
      "Loss after iteration 0: 0.693147\n",
      "Loss after iteration 10: 0.550533\n",
      "Loss after iteration 20: 0.447715\n",
      "Loss after iteration 30: 0.372284\n",
      "Loss after iteration 40: 0.315725\n",
      "Loss after iteration 50: 0.272353\n",
      "Loss after iteration 60: 0.238377\n",
      "Loss after iteration 70: 0.211237\n",
      "Loss after iteration 80: 0.189177\n",
      "Loss after iteration 90: 0.170966\n"
     ]
    }
   ],
   "source": [
    "alpha = 0.01\n",
    "loss_record = []\n",
    "W = [[1., 1., 1.], [-1., -1., -1.]]\n",
    "V = [[1.,1.],[-1.,-1.],[-1.,-1.]]\n",
    "b = [0.,0.,0.]\n",
    "c = [0.,0.]\n",
    "X = [1, -1]\n",
    "Y = [1, 0]\n",
    "\n",
    "param = (W, b, V, c)\n",
    "for i in range(100):\n",
    "    grads, loss, y_pred = propagate(param, X, Y)\n",
    "    param = update_param(param, grads, alpha)\n",
    "    if i % 10 == 0:\n",
    "        loss_record.append(loss)\n",
    "        print (\"Loss after iteration %i: %f\" %(i, loss))"
   ]
  },
  {
   "cell_type": "code",
   "execution_count": 11,
   "metadata": {
    "scrolled": true
   },
   "outputs": [
    {
     "data": {
      "text/plain": [
       "Text(0.5, 0, 'iteration')"
      ]
     },
     "execution_count": 11,
     "metadata": {},
     "output_type": "execute_result"
    },
    {
     "data": {
      "image/png": "[encoded data removed]",
      "text/plain": [
       "<Figure size 432x288 with 1 Axes>"
      ]
     },
     "metadata": {
      "needs_background": "light"
     },
     "output_type": "display_data"
    }
   ],
   "source": [
    "plt.plot(loss_record)  \n",
    "plt.title(\"Q3 Loss per iteration\")\n",
    "plt.ylabel(\"loss\")\n",
    "plt.xlabel(\"iteration\")"
   ]
  },
  {
   "cell_type": "markdown",
   "metadata": {},
   "source": [
    "## Q4 "
   ]
  },
  {
   "cell_type": "code",
   "execution_count": 12,
   "metadata": {},
   "outputs": [
    {
     "name": "stderr",
     "output_type": "stream",
     "text": [
      "C:\\Users\\CLUBBI~1\\AppData\\Local\\Temp/ipykernel_16264/101678582.py:39: DeprecationWarning: `np.int` is a deprecated alias for the builtin `int`. To silence this warning, use `int` by itself. Doing this will not modify any behavior and is safe. When replacing `np.int`, you may wish to use e.g. `np.int64` or `np.int32` to specify the precision. If you wish to review your current use, check the release note link for additional information.\n",
      "Deprecated in NumPy 1.20; for more details and guidance: https://numpy.org/devdocs/release/1.20.0-notes.html#deprecations\n",
      "  y = (q > THRESHOLD).astype(np.int)\n"
     ]
    }
   ],
   "source": [
    "(xtrain, ytrain), (xval, yval), num_cls = load_synth()\n",
    "targets = []\n",
    "for item in ytrain:\n",
    "    if item == 0:\n",
    "        row = [1,0]\n",
    "    else:\n",
    "        row = [0,1]\n",
    "    targets.append(row)\n",
    "\n",
    "t_test = []\n",
    "for item in yval:\n",
    "    if item == 1:\n",
    "        row = [1,0]\n",
    "    else:\n",
    "        row = [0,1]\n",
    "    t_test.append(row)\n"
   ]
  },
  {
   "cell_type": "code",
   "execution_count": 13,
   "metadata": {},
   "outputs": [
    {
     "name": "stdout",
     "output_type": "stream",
     "text": [
      "Epoch: 0 Mean loss: 0.39974426737366225\n",
      "Epoch: 1 Mean loss: 0.13334752733005695\n",
      "Epoch: 2 Mean loss: 0.10763725076542904\n",
      "Epoch: 3 Mean loss: 0.09886257894787441\n",
      "Epoch: 4 Mean loss: 0.09215199570630836\n",
      "Epoch: 5 Mean loss: 0.08644934630243509\n"
     ]
    }
   ],
   "source": [
    "\n",
    "costs = []\n",
    "epoch_costs = []\n",
    "alpha = 0.01\n",
    "\n",
    "W = [np.random.normal(0,1/sqrt(3),3).tolist(), np.random.normal(0,1/sqrt(3),3).tolist()]\n",
    "V = [np.random.normal(0,1/sqrt(3),2).tolist(), np.random.normal(0,1/sqrt(3),2).tolist(), np.random.normal(0,1/sqrt(3),2).tolist()]\n",
    "b = [0.,0.,0.]\n",
    "c = [0.,0.]\n",
    "\n",
    "track = []\n",
    "dump = []\n",
    "smooth = []\n",
    "param = W, b, V, c\n",
    "\n",
    "for e in range(6):\n",
    "    for i in range(len(xtrain)):\n",
    "        grads, loss, y_pred = propagate(param, xtrain[i], targets[i])\n",
    "        param = update_param(param, grads, alpha)\n",
    "        dump.append(loss)\n",
    "        costs.append(loss)\n",
    "        if (i+1)%1000 == 0:\n",
    "            smooth.append(sum(dump)/1000)\n",
    "            dump = []\n",
    "    mean_loss = sum(costs)/len(xtrain)\n",
    "    epoch_costs.append(mean_loss)\n",
    "    costs = []\n",
    "    print(\"Epoch: \" + str(e) + \" Mean loss: \" + str(mean_loss))"
   ]
  },
  {
   "cell_type": "code",
   "execution_count": 14,
   "metadata": {},
   "outputs": [
    {
     "data": {
      "text/plain": [
       "([[5.673792135868482, 4.598235826592304, 1.7059322543344007],\n",
       "  [2.264374773271626, 4.0381438320465985, -1.8607786515721298]],\n",
       " [-3.60498340126389, 3.6273165100255973, 2.1972493581196075],\n",
       " [[-8.23667717345309, 8.961321808689613],\n",
       "  [7.940452700276817, -7.67793154063449],\n",
       "  [5.934175380146133, -6.555328940559287]],\n",
       " [-8.202754142101805, 8.202754142101812])"
      ]
     },
     "execution_count": 14,
     "metadata": {},
     "output_type": "execute_result"
    }
   ],
   "source": [
    "param"
   ]
  },
  {
   "cell_type": "code",
   "execution_count": 15,
   "metadata": {},
   "outputs": [
    {
     "data": {
      "text/plain": [
       "Text(0.5, 1.0, 'Mean loss per 1000 samples')"
      ]
     },
     "execution_count": 15,
     "metadata": {},
     "output_type": "execute_result"
    },
    {
     "data": {
      "image/png": "[encoded data removed]",
      "text/plain": [
       "<Figure size 432x288 with 1 Axes>"
      ]
     },
     "metadata": {
      "needs_background": "light"
     },
     "output_type": "display_data"
    }
   ],
   "source": [
    "plt.plot(smooth)\n",
    "plt.title(\"Mean loss per 1000 samples\")"
   ]
  },
  {
   "cell_type": "code",
   "execution_count": 16,
   "metadata": {},
   "outputs": [
    {
     "data": {
      "text/plain": [
       "Text(0.5, 1.0, 'Mean training loss per epoch')"
      ]
     },
     "execution_count": 16,
     "metadata": {},
     "output_type": "execute_result"
    },
    {
     "data": {
      "image/png": "[encoded data removed]",
      "text/plain": [
       "<Figure size 432x288 with 1 Axes>"
      ]
     },
     "metadata": {
      "needs_background": "light"
     },
     "output_type": "display_data"
    }
   ],
   "source": [
    "import matplotlib.pyplot as plt\n",
    "plt.plot(epoch_costs)\n",
    "plt.title(\"Mean training loss per epoch\")"
   ]
  },
  {
   "cell_type": "markdown",
   "metadata": {},
   "source": [
    "## Q5"
   ]
  },
  {
   "cell_type": "code",
   "execution_count": 63,
   "metadata": {},
   "outputs": [
    {
     "name": "stdout",
     "output_type": "stream",
     "text": [
      "Downloading train-images-idx3-ubyte.gz...\n",
      "Downloading t10k-images-idx3-ubyte.gz...\n",
      "Downloading train-labels-idx1-ubyte.gz...\n",
      "Downloading t10k-labels-idx1-ubyte.gz...\n",
      "Download complete.\n",
      "Save complete.\n"
     ]
    }
   ],
   "source": [
    "#(xtrain, ytrain), (xtest, ytest), num = load_mnist\n",
    "mnist.init()\n",
    "(xtrain, ytrain), (xval, yval), num_cls = load_mnist(final=True)\n",
    "xtrain = xtrain/255\n",
    "xval = xval/255\n",
    "def one_hot_encode(data):\n",
    "    temp = np.zeros((data.size, 10))\n",
    "    temp[np.arange(data.size), data] = 1\n",
    "    return temp\n",
    "\n",
    "t_train = one_hot_encode(ytrain)\n",
    "t_test = one_hot_encode(yval)"
   ]
  },
  {
   "cell_type": "code",
   "execution_count": 64,
   "metadata": {},
   "outputs": [],
   "source": [
    "def initialize_parameters_deep(layer_dims):\n",
    "    \"\"\"\n",
    "    Arguments:\n",
    "    layer_dims -- python array (list) containing the dimensions of each layer in our network\n",
    "    \n",
    "    Returns:\n",
    "    parameters -- W, b, V, c, where W and V are weight matrices and b,c represents the bias respectively.\n",
    "    \"\"\"\n",
    "    np.random.seed(3)\n",
    "    x_size, h_size, o_size = layer_dims\n",
    "         \n",
    "    W = np.random.normal(0, 1, size=(h_size,x_size))\n",
    "    b = np.zeros((h_size,1))\n",
    "    V = np.random.normal(0, 1, size=(o_size,h_size))\n",
    "    c = np.zeros((o_size,1))\n",
    "    parameters = W,b,V,c\n",
    "        \n",
    "    return parameters"
   ]
  },
  {
   "cell_type": "code",
   "execution_count": 65,
   "metadata": {},
   "outputs": [],
   "source": [
    "def sigmoid(x):\n",
    "    return 1/(1+np.exp(-x))\n",
    "\n",
    "def softmax(x):\n",
    "    return np.exp(x)/sum(np.exp(x))\n",
    "    \n",
    "def forward(x, t, params):\n",
    "    W, b, V, c = params\n",
    "    z = W@x + b \n",
    "    h = sigmoid(z)\n",
    "    o = V@h + c\n",
    "    y = softmax(o)\n",
    "    loss = -math.log((y.T@t)[0][0])\n",
    "    params = W, b, V, c\n",
    "    cache = z, h, o\n",
    "    return params, loss, y, cache\n",
    "\n",
    "def backward(x, t, params, y, cache):\n",
    "    W, b, V, c = params\n",
    "    z, h, o = cache\n",
    "    gy = t * (-1/y)\n",
    "    go = (-y@y.T + np.diagflat(y)) @ gy\n",
    "    gc = go\n",
    "    gV = go @ h.T\n",
    "    gh = V.T @ go\n",
    "    gz = gh * h * (1-h)\n",
    "    gW = gz @ x.T\n",
    "    gb = gz\n",
    "    \n",
    "    grads = gW, gb, gV, gc\n",
    "    \n",
    "    return grads\n",
    "\n",
    "def SGD(x,t,params,alpha=1e-2):\n",
    "    params, loss, y, cache = forward(x, t, params)\n",
    "    grads = backward(x, t, params, y, cache)\n",
    "    gW, gb, gV, gc = grads\n",
    "    W, b, V, c = params\n",
    "    W -= alpha * gW\n",
    "    b -= alpha * gb\n",
    "    V -= alpha * gV\n",
    "    c -= alpha * gc\n",
    "    params = W, b, V, c\n",
    "    return params, loss, y"
   ]
  },
  {
   "cell_type": "code",
   "execution_count": 66,
   "metadata": {},
   "outputs": [],
   "source": [
    "def sigmoid(x):\n",
    "    return 1/(1+np.exp(-x))\n",
    "\n",
    "def softmax(x):\n",
    "    return np.exp(x)/sum(np.exp(x))\n",
    "    \n",
    "def forward(x, t, params):\n",
    "    W, b, V, c = params\n",
    "    z = np.matmul(W,x) + b \n",
    "    h = sigmoid(z)\n",
    "    o = np.matmul(V,h) + c\n",
    "    y = softmax(o)\n",
    "    loss = -math.log((np.matmul(y.T,t)[0][0]))\n",
    "    params = W, b, V, c\n",
    "    cache = z, h, o\n",
    "    return params, loss, y, cache\n",
    "\n",
    "def backward(x, t, params, y, cache):\n",
    "    W, b, V, c = params\n",
    "    z, h, o = cache\n",
    "    #gy = t * (-1/y)\n",
    "    #go = (-y@y.T + np.diagflat(y)) @ gy\n",
    "    go = y-t\n",
    "    gc = go\n",
    "    gV = np.matmul(go,h.T)\n",
    "    gh = np.matmul(V.T, go)\n",
    "    gz = gh * h * (1-h)\n",
    "    gW = np.matmul(gz, x.T)\n",
    "    gb = gz\n",
    "    \n",
    "    grads = gW, gb, gV, gc\n",
    "    \n",
    "    return grads\n",
    "\n",
    "def SGD(x,t,params,alpha=1e-2):\n",
    "    params, loss, y, cache = forward(x, t, params)\n",
    "    grads = backward(x, t, params, y, cache)\n",
    "    gW, gb, gV, gc = grads\n",
    "    W, b, V, c = params\n",
    "    W -= alpha * gW\n",
    "    b -= alpha * gb\n",
    "    V -= alpha * gV\n",
    "    c -= alpha * gc\n",
    "    params = W, b, V, c\n",
    "    return params, loss, y\n",
    "\n",
    "def getAccuracy(x, t, params):\n",
    "    total = x.shape[0]\n",
    "    num_correct = 0\n",
    "    for i in range(total):\n",
    "        params, loss, y, cache = forward(x[i][:,None], t[i][:,None], params)\n",
    "        prediction = np.argmax(y)\n",
    "        target = np.argmax(t[i,:])\n",
    "        if target == prediction:\n",
    "            num_correct += 1\n",
    "    return num_correct/total * 100"
   ]
  },
  {
   "cell_type": "code",
   "execution_count": 105,
   "metadata": {},
   "outputs": [
    {
     "data": {
      "text/plain": [
       "60000"
      ]
     },
     "execution_count": 105,
     "metadata": {},
     "output_type": "execute_result"
    }
   ],
   "source": [
    "len(xtrain)"
   ]
  },
  {
   "cell_type": "code",
   "execution_count": 118,
   "metadata": {
    "scrolled": true
   },
   "outputs": [
    {
     "name": "stdout",
     "output_type": "stream",
     "text": [
      "Done.\n",
      "Done.\n",
      "Done.\n",
      "Done.\n",
      "Done.\n",
      "91.55\n",
      "Wall time: 8min 52s\n"
     ]
    }
   ],
   "source": [
    "%%time\n",
    "params = initialize_parameters_deep([784,300,10])\n",
    "trainloss= []\n",
    "valloss = []\n",
    "num_train = 60000\n",
    "num_test = len(xval)\n",
    "for e in range(5):\n",
    "    for n in range(num_train):\n",
    "        m = random.randint(0,num_train-1)\n",
    "        k = random.randint(0,num_test-1)\n",
    "        params, loss, y = SGD(xtrain[m][:,None], t_train[m,:][:,None], params, 0.003) \n",
    "        #params, loss, y, cache = forward(xtrain[0][:,None], t_train[0][:,None], params)\n",
    "        valloss.append(forward(xval[k,:][:,None], t_test[k,:][:,None], params)[1] )\n",
    "        trainloss.append(loss)\n",
    "    print(\"Done.\")\n",
    "print(getAccuracy(xval, t_test, params))"
   ]
  },
  {
   "cell_type": "code",
   "execution_count": 120,
   "metadata": {},
   "outputs": [
    {
     "data": {
      "text/plain": [
       "Text(0.5, 0, 'Iterations')"
      ]
     },
     "execution_count": 120,
     "metadata": {},
     "output_type": "execute_result"
    },
    {
     "data": {
      "image/png": "[encoded data removed]",
      "text/plain": [
       "<Figure size 432x288 with 1 Axes>"
      ]
     },
     "metadata": {
      "needs_background": "light"
     },
     "output_type": "display_data"
    }
   ],
   "source": [
    "averagedtrainloss=[]      \n",
    "averagedvalloss=[]  \n",
    "for i in range(5):\n",
    "    averagedtrainloss.append(stat.mean(trainloss[i*60000:(i+1)*60000]))\n",
    "    averagedvalloss.append(stat.mean(valloss[i*60000:(i+1)*60000]))\n",
    "\n",
    "plt.plot(averagedtrainloss, label=\"Train loss\")\n",
    "plt.plot(averagedvalloss, label=\"Validation loss\")\n",
    "plt.title(\"Learning rate 0.003\")\n",
    "plt.legend()\n",
    "plt.ylabel(\"Loss\")\n",
    "plt.xlabel(\"Iterations\")"
   ]
  },
  {
   "cell_type": "markdown",
   "metadata": {},
   "source": [
    "## Confidence interval cross entropy loss for three models"
   ]
  },
  {
   "cell_type": "code",
   "execution_count": 149,
   "metadata": {},
   "outputs": [],
   "source": [
    "params1 = initialize_parameters_deep([784,300,10])\n",
    "params2 = initialize_parameters_deep([784,300,10])\n",
    "params3 = initialize_parameters_deep([784,300,10])\n",
    "trainloss1 = []\n",
    "trainloss2 = []\n",
    "trainloss3 = []\n",
    "valloss1 = []\n",
    "valloss2 = []\n",
    "valloss3 = []\n",
    "acc1 = []\n",
    "acc2 = []\n",
    "acc3 = []\n",
    "num_train = 55000\n",
    "num_test = len(xval)\n",
    "for e in [1,2,3,4,5]:\n",
    "    for n in range(num_train):\n",
    "        m = random.randint(0,num_train-1)\n",
    "        k = random.randint(0,num_test-1)\n",
    "        params1, loss1, y1 = SGD(xtrain[m][:,None], t_train[m,:][:,None], params1, 0.01) \n",
    "        valloss1.append(backprop(xval[k,:][:,None], t_test[k,:][:,None], params1)[1] )\n",
    "        trainloss1.append(loss1)\n",
    "\n",
    "        m = random.randint(0,num_train-1)\n",
    "        k = random.randint(0,num_test-1)\n",
    "        params2, loss2, y2 = SGD(xtrain[m][:,None], t_train[m,:][:,None], params2, 0.01) \n",
    "        valloss2.append(backprop(xval[k,:][:,None], t_test[k,:][:,None], params2)[1] )\n",
    "        trainloss2.append(loss2)\n",
    "\n",
    "        m = random.randint(0,num_train-1)\n",
    "        k = random.randint(0,num_test-1)\n",
    "        params3, loss3, y3 = SGD(xtrain[m][:,None], t_train[m,:][:,None], params3, 0.01) \n",
    "        valloss3.append(backprop(xval[k,:][:,None], t_test[k,:][:,None], params3)[1] )\n",
    "        trainloss3.append(loss3)\n",
    "    acc1 = getAccuracy(xval, t_test, params1)\n",
    "    acc2 = getAccuracy(xval, t_test, params2)\n",
    "    acc3 = getAccuracy(xval, t_test, params3)"
   ]
  },
  {
   "cell_type": "code",
   "execution_count": 179,
   "metadata": {},
   "outputs": [],
   "source": [
    "np.mean(valloss3)\n",
    "np.std(valloss1)\n",
    "valloss1 = np.array(valloss1)\n",
    "valloss2 = np.array(valloss2)\n",
    "valloss3 = np.array(valloss3)\n",
    "trainloss1 = np.array(trainloss1)\n",
    "trainloss2 = np.array(trainloss2)\n",
    "trainloss3 = np.array(trainloss3)"
   ]
  },
  {
   "cell_type": "code",
   "execution_count": 186,
   "metadata": {},
   "outputs": [
    {
     "name": "stdout",
     "output_type": "stream",
     "text": [
      "[1.54904474 0.78075271 0.68974808 0.66282287 0.61182854]\n"
     ]
    },
    {
     "data": {
      "image/png": "[encoded data removed]",
      "text/plain": [
       "<Figure size 432x288 with 1 Axes>"
      ]
     },
     "metadata": {
      "needs_background": "light"
     },
     "output_type": "display_data"
    }
   ],
   "source": [
    "#np.mean(valloss1.reshape((5,55000)), axis=1)\n",
    "mu1 = np.mean(valloss1.reshape((5,55000)), axis=1)\n",
    "mu2 = np.mean(valloss2.reshape((5,55000)), axis=1)\n",
    "mu3 = np.mean(valloss3.reshape((5,55000)), axis=1)\n",
    "\n",
    "#sigma = np.std(((np.array(trainloss1) + np.array(trainloss2) + np.array(trainloss3))/3).reshape((5,55000)), axis=1)\n",
    "mu = np.mean(np.array((mu1,mu2,mu3)), axis = 0)\n",
    "#print(mu)\n",
    "sigma = np.std(((np.array(valloss1) + np.array(valloss2) + np.array(valloss3))/3).reshape((5,55000)), axis=1)\n",
    "\n",
    "print(sigma)\n",
    "\n",
    "t = np.arange(5)\n",
    "# plot it!\n",
    "fig, ax = plt.subplots(1)\n",
    "ax.plot(t, mu, lw=2, label='Mean', color='blue')\n",
    "ax.fill_between(t, mu+sigma, mu-sigma, facecolor='blue', alpha=0.5)\n",
    "\n",
    "ax.set_title(r'Cross entropy loss empirical $\\mu$ and $\\pm \\sigma$ interval')\n",
    "ax.legend(loc='upper right')\n",
    "ax.set_xlabel('Epoch')\n",
    "ax.set_ylabel('Loss')\n",
    "ax.grid()\n",
    "\n"
   ]
  },
  {
   "cell_type": "code",
   "execution_count": 73,
   "metadata": {},
   "outputs": [
    {
     "name": "stdout",
     "output_type": "stream",
     "text": [
      "(5,)\n"
     ]
    },
    {
     "data": {
      "image/png": "[encoded data removed]",
      "text/plain": [
       "<Figure size 432x288 with 1 Axes>"
      ]
     },
     "metadata": {
      "needs_background": "light"
     },
     "output_type": "display_data"
    }
   ],
   "source": [
    "mu = np.mean(np.array(trainloss).reshape((5,55000)), axis = 1)\n",
    "#print(mu)\n",
    "sigma = np.std(np.array(trainloss).reshape((5,55000)), axis=1)\n",
    "\n",
    "print(mu.shape)\n",
    "\n",
    "t = np.arange(5)\n",
    "# plot it!\n",
    "fig, ax = plt.subplots(1)\n",
    "ax.plot(t, mu, lw=2, label='Mean', color='blue')\n",
    "ax.fill_between(t, mu+sigma, mu-sigma, facecolor='blue', alpha=0.5)\n",
    "\n",
    "ax.set_title(r'Cross entropy loss empirical $\\mu$ and $\\pm \\sigma$ interval')\n",
    "ax.legend(loc='upper right')\n",
    "ax.set_xlabel('Epoch')\n",
    "ax.set_ylabel('Loss')\n",
    "ax.grid()"
   ]
  },
  {
   "cell_type": "code",
   "execution_count": 98,
   "metadata": {},
   "outputs": [
    {
     "data": {
      "text/plain": [
       "Text(0.5, 0, 'Iterations')"
      ]
     },
     "execution_count": 98,
     "metadata": {},
     "output_type": "execute_result"
    },
    {
     "data": {
      "image/png": "[encoded data removed]",
      "text/plain": [
       "<Figure size 432x288 with 1 Axes>"
      ]
     },
     "metadata": {
      "needs_background": "light"
     },
     "output_type": "display_data"
    }
   ],
   "source": [
    "averagedtrainloss=[]      \n",
    "averagedvalloss=[]  \n",
    "for i in range(55):\n",
    "    averagedtrainloss.append(stat.mean(trainloss[i*1100:(i+1)*1100]))\n",
    "    averagedvalloss.append(stat.mean(valloss[i*1100:(i+1)*1100]))\n",
    "\n",
    "plt.plot(averagedtrainloss, label=\"Train loss\")\n",
    "plt.plot(averagedvalloss, label=\"Validation loss\")\n",
    "plt.title(\"Learning rate 0.003\")\n",
    "plt.legend()\n",
    "plt.ylabel(\"Loss\")\n",
    "plt.xlabel(\"Iterations\")"
   ]
  },
  {
   "cell_type": "code",
   "execution_count": 101,
   "metadata": {},
   "outputs": [
    {
     "data": {
      "text/plain": [
       "Text(0.5, 0, 'Iterations')"
      ]
     },
     "execution_count": 101,
     "metadata": {},
     "output_type": "execute_result"
    },
    {
     "data": {
      "image/png": "[encoded data removed]",
      "text/plain": [
       "<Figure size 432x288 with 1 Axes>"
      ]
     },
     "metadata": {
      "needs_background": "light"
     },
     "output_type": "display_data"
    }
   ],
   "source": [
    "averagedtrainloss=[]      \n",
    "averagedvalloss=[]  \n",
    "for i in range(5):\n",
    "    averagedtrainloss.append(stat.mean(trainloss[i*55000:(i+1)*55000]))\n",
    "    averagedvalloss.append(stat.mean(valloss[i*55000:(i+1)*55000]))\n",
    "\n",
    "plt.plot(averagedtrainloss, label=\"Train loss\")\n",
    "plt.plot(averagedvalloss, label=\"Validation loss\")\n",
    "plt.title(\"Learning rate 0.003\")\n",
    "plt.legend()\n",
    "plt.ylabel(\"Loss\")\n",
    "plt.xlabel(\"Iterations\")"
   ]
  },
  {
   "cell_type": "code",
   "execution_count": 110,
   "metadata": {},
   "outputs": [
    {
     "data": {
      "text/plain": [
       "91.75999999999999"
      ]
     },
     "execution_count": 110,
     "metadata": {},
     "output_type": "execute_result"
    }
   ],
   "source": [
    "getAccuracy(xval, t_test, params)"
   ]
  },
  {
   "cell_type": "code",
   "execution_count": 76,
   "metadata": {},
   "outputs": [
    {
     "data": {
      "text/plain": [
       "Text(0.5, 0, 'Iterations')"
      ]
     },
     "execution_count": 76,
     "metadata": {},
     "output_type": "execute_result"
    },
    {
     "data": {
      "image/png": "[encoded data removed]",
      "text/plain": [
       "<Figure size 432x288 with 1 Axes>"
      ]
     },
     "metadata": {
      "needs_background": "light"
     },
     "output_type": "display_data"
    }
   ],
   "source": [
    "averagedtrainloss=[]      \n",
    "averagedvalloss=[]  \n",
    "for i in range(55):\n",
    "    averagedtrainloss.append(stat.mean(trainloss[i*1000:(i+1)*1000]))\n",
    "    averagedvalloss.append(stat.mean(valloss[i*1000:(i+1)*1000]))\n",
    "\n",
    "plt.plot(averagedtrainloss, label=\"Train loss\")\n",
    "plt.plot(averagedvalloss, label=\"Validation loss\")\n",
    "plt.title(\"Learning rate 0.03\")\n",
    "plt.legend()\n",
    "plt.ylabel(\"Loss\")\n",
    "plt.xlabel(\"Iterations\")"
   ]
  },
  {
   "cell_type": "code",
   "execution_count": 22,
   "metadata": {},
   "outputs": [],
   "source": [
    "def getAccuracy(x, t, params):\n",
    "    \"\"\"\n",
    "    Obtain the accuracy of the model on a validation set or test set\n",
    "    \"\"\"\n",
    "    total = x.shape[0]\n",
    "    num_correct = 0\n",
    "    for i in range(total):\n",
    "        params, loss, y, cache = forward(x[i][:,None], t[i][:,None], params)\n",
    "        prediction = np.argmax(y)\n",
    "        target = np.argmax(t[i,:])\n",
    "        if target == prediction:\n",
    "            num_correct += 1\n",
    "    return num_correct/total * 100\n",
    "\n",
    "#getAccuracy(xval, t_test, params)"
   ]
  },
  {
   "cell_type": "markdown",
   "metadata": {},
   "source": [
    "## Q6"
   ]
  },
  {
   "cell_type": "code",
   "execution_count": 51,
   "metadata": {},
   "outputs": [],
   "source": [
    "def tensorforward(x, t, params, batch_size):\n",
    "    W, b, V, c = params\n",
    "    z = W@x + b \n",
    "    h = np.apply_along_axis(sigmoid, 1, z)\n",
    "    #print(z.shape)\n",
    "    #h = sigmoid(z)\n",
    "    o = V@h + c\n",
    "    #y = softmax(o)\n",
    "    #print(o.shape)\n",
    "    y = np.apply_along_axis(softmax, 1, o )\n",
    "    loss = -np.log((y.reshape((batch_size,1,10))@t).squeeze())\n",
    "    loss = np.mean(loss)\n",
    "    cache = z, h, o\n",
    "    return loss, y, cache\n",
    "\n",
    "def tensorbackward(x, t, params, y, cache, batch_size):\n",
    "    W, b, V, c = params\n",
    "    z, h, o = cache\n",
    "    #gy = t * (-1/y)\n",
    "    #temp = np.apply_along_axis(np.diagflat, 1, y.squeeze())\n",
    "    #go = (-y@y.reshape((batch_size,1,10)) + temp) @ gy\n",
    "    go = y-t\n",
    "    gc = go\n",
    "    gV = go @ h.reshape((batch_size,1,300)) #.T\n",
    "    gh = V.T @ go\n",
    "    gz = gh * h * (1-h)\n",
    "    gW = gz @ x.reshape((batch_size,1,784)) #.T\n",
    "    gb = gz\n",
    "    \n",
    "    grads = np.mean(gW, axis = 0), np.mean(gb, axis = 0), np.mean(gV, axis = 0), np.mean(gc, axis = 0)\n",
    "    \n",
    "    return grads\n",
    "\n",
    "def minibatchGD(x_batch, t_batch, params, batch_size, alpha=1e-2):\n",
    "    batchsize = x_batch.shape[0]\n",
    "    x = x_batch[:, :, None]\n",
    "    t = t_batch[:, :, None]\n",
    "    loss, y, cache = tensorforward(x, t, params, batch_size)\n",
    "    grads = tensorbackward(x, t, params, y, cache, batch_size)\n",
    "    gW, gb, gV, gc = grads\n",
    "    \n",
    "    W, b, V, c = params\n",
    "    W -= alpha * gW\n",
    "    b -= alpha * gb\n",
    "    V -= alpha * gV\n",
    "    c -= alpha * gc\n",
    "    params = W, b, V, c\n",
    "    return params, loss, y"
   ]
  },
  {
   "cell_type": "code",
   "execution_count": 49,
   "metadata": {},
   "outputs": [
    {
     "name": "stdout",
     "output_type": "stream",
     "text": [
      "Wall time: 998 µs\n"
     ]
    }
   ],
   "source": [
    "%time for n in range(5500): trainloss.append(loss)"
   ]
  },
  {
   "cell_type": "code",
   "execution_count": 69,
   "metadata": {},
   "outputs": [
    {
     "ename": "KeyboardInterrupt",
     "evalue": "",
     "output_type": "error",
     "traceback": [
      "\u001b[1;31m---------------------------------------------------------------------------\u001b[0m",
      "\u001b[1;31mKeyboardInterrupt\u001b[0m                         Traceback (most recent call last)",
      "\u001b[1;32m<timed exec>\u001b[0m in \u001b[0;36m<module>\u001b[1;34m\u001b[0m\n",
      "\u001b[1;32mC:\\Users\\CLUBBI~1\\AppData\\Local\\Temp/ipykernel_16264/319110992.py\u001b[0m in \u001b[0;36mminibatchGD2\u001b[1;34m(x_batch, t_batch, params, batch_size, alpha)\u001b[0m\n\u001b[0;32m     38\u001b[0m     \u001b[0mt\u001b[0m \u001b[1;33m=\u001b[0m \u001b[0mt_batch\u001b[0m\u001b[1;33m[\u001b[0m\u001b[1;33m:\u001b[0m\u001b[1;33m,\u001b[0m \u001b[1;33m:\u001b[0m\u001b[1;33m,\u001b[0m \u001b[1;32mNone\u001b[0m\u001b[1;33m]\u001b[0m\u001b[1;33m\u001b[0m\u001b[1;33m\u001b[0m\u001b[0m\n\u001b[0;32m     39\u001b[0m     \u001b[0mloss\u001b[0m\u001b[1;33m,\u001b[0m \u001b[0my\u001b[0m\u001b[1;33m,\u001b[0m \u001b[0mcache\u001b[0m \u001b[1;33m=\u001b[0m \u001b[0mtensorforward\u001b[0m\u001b[1;33m(\u001b[0m\u001b[0mx\u001b[0m\u001b[1;33m,\u001b[0m \u001b[0mt\u001b[0m\u001b[1;33m,\u001b[0m \u001b[0mparams\u001b[0m\u001b[1;33m,\u001b[0m \u001b[0mbatch_size\u001b[0m\u001b[1;33m)\u001b[0m\u001b[1;33m\u001b[0m\u001b[1;33m\u001b[0m\u001b[0m\n\u001b[1;32m---> 40\u001b[1;33m     \u001b[0mgrads\u001b[0m \u001b[1;33m=\u001b[0m \u001b[0mtensorbackward\u001b[0m\u001b[1;33m(\u001b[0m\u001b[0mx\u001b[0m\u001b[1;33m,\u001b[0m \u001b[0mt\u001b[0m\u001b[1;33m,\u001b[0m \u001b[0mparams\u001b[0m\u001b[1;33m,\u001b[0m \u001b[0my\u001b[0m\u001b[1;33m,\u001b[0m \u001b[0mcache\u001b[0m\u001b[1;33m,\u001b[0m \u001b[0mbatch_size\u001b[0m\u001b[1;33m)\u001b[0m\u001b[1;33m\u001b[0m\u001b[1;33m\u001b[0m\u001b[0m\n\u001b[0m\u001b[0;32m     41\u001b[0m     \u001b[0mgW\u001b[0m\u001b[1;33m,\u001b[0m \u001b[0mgb\u001b[0m\u001b[1;33m,\u001b[0m \u001b[0mgV\u001b[0m\u001b[1;33m,\u001b[0m \u001b[0mgc\u001b[0m \u001b[1;33m=\u001b[0m \u001b[0mgrads\u001b[0m\u001b[1;33m\u001b[0m\u001b[1;33m\u001b[0m\u001b[0m\n\u001b[0;32m     42\u001b[0m \u001b[1;33m\u001b[0m\u001b[0m\n",
      "\u001b[1;32mC:\\Users\\CLUBBI~1\\AppData\\Local\\Temp/ipykernel_16264/319110992.py\u001b[0m in \u001b[0;36mtensorbackward\u001b[1;34m(x, t, params, y, cache, batch_size)\u001b[0m\n\u001b[0;32m     22\u001b[0m     \u001b[0mgo\u001b[0m \u001b[1;33m=\u001b[0m \u001b[0my\u001b[0m\u001b[1;33m-\u001b[0m\u001b[0mt\u001b[0m\u001b[1;33m\u001b[0m\u001b[1;33m\u001b[0m\u001b[0m\n\u001b[0;32m     23\u001b[0m     \u001b[0mgc\u001b[0m \u001b[1;33m=\u001b[0m \u001b[0mgo\u001b[0m\u001b[1;33m\u001b[0m\u001b[1;33m\u001b[0m\u001b[0m\n\u001b[1;32m---> 24\u001b[1;33m     \u001b[0mgV\u001b[0m \u001b[1;33m=\u001b[0m \u001b[0mgo\u001b[0m \u001b[1;33m@\u001b[0m \u001b[0mh\u001b[0m\u001b[1;33m.\u001b[0m\u001b[0mreshape\u001b[0m\u001b[1;33m(\u001b[0m\u001b[1;33m(\u001b[0m\u001b[0mbatch_size\u001b[0m\u001b[1;33m,\u001b[0m\u001b[1;36m1\u001b[0m\u001b[1;33m,\u001b[0m\u001b[1;36m300\u001b[0m\u001b[1;33m)\u001b[0m\u001b[1;33m)\u001b[0m \u001b[1;31m#.T\u001b[0m\u001b[1;33m\u001b[0m\u001b[1;33m\u001b[0m\u001b[0m\n\u001b[0m\u001b[0;32m     25\u001b[0m     \u001b[0mgh\u001b[0m \u001b[1;33m=\u001b[0m \u001b[0mV\u001b[0m\u001b[1;33m.\u001b[0m\u001b[0mT\u001b[0m \u001b[1;33m@\u001b[0m \u001b[0mgo\u001b[0m\u001b[1;33m\u001b[0m\u001b[1;33m\u001b[0m\u001b[0m\n\u001b[0;32m     26\u001b[0m     \u001b[0mgz\u001b[0m \u001b[1;33m=\u001b[0m \u001b[0mgh\u001b[0m \u001b[1;33m*\u001b[0m \u001b[0mh\u001b[0m \u001b[1;33m*\u001b[0m \u001b[1;33m(\u001b[0m\u001b[1;36m1\u001b[0m\u001b[1;33m-\u001b[0m\u001b[0mh\u001b[0m\u001b[1;33m)\u001b[0m\u001b[1;33m\u001b[0m\u001b[1;33m\u001b[0m\u001b[0m\n",
      "\u001b[1;31mKeyboardInterrupt\u001b[0m: "
     ]
    }
   ],
   "source": [
    "%%time\n",
    "track = []\n",
    "trainloss= []\n",
    "valloss = []\n",
    "num_train = 55000\n",
    "num_test = len(xval)\n",
    "params = initialize_parameters_deep([784,300,10])\n",
    "batch_size = 10\n",
    "\n",
    "## Minibatch Gradient Descent loop ################################\n",
    "for e in range(5):\n",
    "    for n in range(5500):\n",
    "        x_batch = xtrain[batch_size*n:batch_size*(n+1),:][0:batch_size, :]\n",
    "        t_batch = t_train[batch_size*n:batch_size*(n+1),:][0:batch_size, :]\n",
    "        params, loss, y = minibatchGD(x_batch, t_batch, params, batch_size, 0.01)\n",
    "        trainloss.append(loss)\n",
    "    track.append(trainloss)\n",
    "    trainloss = []\n"
   ]
  },
  {
   "cell_type": "code",
   "execution_count": 68,
   "metadata": {},
   "outputs": [
    {
     "data": {
      "text/plain": [
       "90.93"
      ]
     },
     "execution_count": 68,
     "metadata": {},
     "output_type": "execute_result"
    }
   ],
   "source": [
    "getAccuracy(xval, t_test, params)"
   ]
  },
  {
   "cell_type": "code",
   "execution_count": 20,
   "metadata": {},
   "outputs": [
    {
     "ename": "StatisticsError",
     "evalue": "mean requires at least one data point",
     "output_type": "error",
     "traceback": [
      "\u001b[1;31m---------------------------------------------------------------------------\u001b[0m",
      "\u001b[1;31mStatisticsError\u001b[0m                           Traceback (most recent call last)",
      "\u001b[1;32m<ipython-input-20-7f2d48e91150>\u001b[0m in \u001b[0;36m<module>\u001b[1;34m\u001b[0m\n\u001b[0;32m      1\u001b[0m \u001b[0maveragedtrainloss\u001b[0m\u001b[1;33m=\u001b[0m\u001b[1;33m[\u001b[0m\u001b[1;33m]\u001b[0m\u001b[1;33m\u001b[0m\u001b[1;33m\u001b[0m\u001b[0m\n\u001b[0;32m      2\u001b[0m \u001b[1;32mfor\u001b[0m \u001b[0mi\u001b[0m \u001b[1;32min\u001b[0m \u001b[0mrange\u001b[0m\u001b[1;33m(\u001b[0m\u001b[1;36m55\u001b[0m\u001b[1;33m)\u001b[0m\u001b[1;33m:\u001b[0m\u001b[1;33m\u001b[0m\u001b[1;33m\u001b[0m\u001b[0m\n\u001b[1;32m----> 3\u001b[1;33m     \u001b[0maveragedtrainloss\u001b[0m\u001b[1;33m.\u001b[0m\u001b[0mappend\u001b[0m\u001b[1;33m(\u001b[0m\u001b[0mstat\u001b[0m\u001b[1;33m.\u001b[0m\u001b[0mmean\u001b[0m\u001b[1;33m(\u001b[0m\u001b[0mtrainloss\u001b[0m\u001b[1;33m[\u001b[0m\u001b[0mi\u001b[0m\u001b[1;33m*\u001b[0m\u001b[1;36m1000\u001b[0m\u001b[1;33m:\u001b[0m\u001b[1;33m(\u001b[0m\u001b[0mi\u001b[0m\u001b[1;33m+\u001b[0m\u001b[1;36m1\u001b[0m\u001b[1;33m)\u001b[0m\u001b[1;33m*\u001b[0m\u001b[1;36m1000\u001b[0m\u001b[1;33m]\u001b[0m\u001b[1;33m)\u001b[0m\u001b[1;33m)\u001b[0m\u001b[1;33m\u001b[0m\u001b[1;33m\u001b[0m\u001b[0m\n\u001b[0m\u001b[0;32m      4\u001b[0m \u001b[0mplt\u001b[0m\u001b[1;33m.\u001b[0m\u001b[0mplot\u001b[0m\u001b[1;33m(\u001b[0m\u001b[0maveragedtrainloss\u001b[0m\u001b[1;33m,\u001b[0m \u001b[0mlabel\u001b[0m\u001b[1;33m=\u001b[0m\u001b[1;34m\"Validation loss\"\u001b[0m\u001b[1;33m)\u001b[0m\u001b[1;33m\u001b[0m\u001b[1;33m\u001b[0m\u001b[0m\n\u001b[0;32m      5\u001b[0m \u001b[0mplt\u001b[0m\u001b[1;33m.\u001b[0m\u001b[0mlegend\u001b[0m\u001b[1;33m(\u001b[0m\u001b[1;33m)\u001b[0m\u001b[1;33m\u001b[0m\u001b[1;33m\u001b[0m\u001b[0m\n",
      "\u001b[1;32m~\\anaconda3\\lib\\statistics.py\u001b[0m in \u001b[0;36mmean\u001b[1;34m(data)\u001b[0m\n\u001b[0;32m    313\u001b[0m     \u001b[0mn\u001b[0m \u001b[1;33m=\u001b[0m \u001b[0mlen\u001b[0m\u001b[1;33m(\u001b[0m\u001b[0mdata\u001b[0m\u001b[1;33m)\u001b[0m\u001b[1;33m\u001b[0m\u001b[1;33m\u001b[0m\u001b[0m\n\u001b[0;32m    314\u001b[0m     \u001b[1;32mif\u001b[0m \u001b[0mn\u001b[0m \u001b[1;33m<\u001b[0m \u001b[1;36m1\u001b[0m\u001b[1;33m:\u001b[0m\u001b[1;33m\u001b[0m\u001b[1;33m\u001b[0m\u001b[0m\n\u001b[1;32m--> 315\u001b[1;33m         \u001b[1;32mraise\u001b[0m \u001b[0mStatisticsError\u001b[0m\u001b[1;33m(\u001b[0m\u001b[1;34m'mean requires at least one data point'\u001b[0m\u001b[1;33m)\u001b[0m\u001b[1;33m\u001b[0m\u001b[1;33m\u001b[0m\u001b[0m\n\u001b[0m\u001b[0;32m    316\u001b[0m     \u001b[0mT\u001b[0m\u001b[1;33m,\u001b[0m \u001b[0mtotal\u001b[0m\u001b[1;33m,\u001b[0m \u001b[0mcount\u001b[0m \u001b[1;33m=\u001b[0m \u001b[0m_sum\u001b[0m\u001b[1;33m(\u001b[0m\u001b[0mdata\u001b[0m\u001b[1;33m)\u001b[0m\u001b[1;33m\u001b[0m\u001b[1;33m\u001b[0m\u001b[0m\n\u001b[0;32m    317\u001b[0m     \u001b[1;32massert\u001b[0m \u001b[0mcount\u001b[0m \u001b[1;33m==\u001b[0m \u001b[0mn\u001b[0m\u001b[1;33m\u001b[0m\u001b[1;33m\u001b[0m\u001b[0m\n",
      "\u001b[1;31mStatisticsError\u001b[0m: mean requires at least one data point"
     ]
    }
   ],
   "source": [
    "averagedtrainloss=[] \n",
    "for i in range(55):\n",
    "    averagedtrainloss.append(stat.mean(trainloss[i*1000:(i+1)*1000]))\n",
    "plt.plot(averagedtrainloss, label=\"Validation loss\")\n",
    "plt.legend()\n",
    "plt.ylabel(\"Loss\")\n",
    "plt.xlabel(\"Iterations\")"
   ]
  },
  {
   "cell_type": "code",
   "execution_count": 57,
   "metadata": {},
   "outputs": [
    {
     "data": {
      "text/plain": [
       "Text(0.5, 0, 'Iterations')"
      ]
     },
     "execution_count": 57,
     "metadata": {},
     "output_type": "execute_result"
    },
    {
     "data": {
      "image/png": "[encoded data removed]",
      "text/plain": [
       "<Figure size 432x288 with 1 Axes>"
      ]
     },
     "metadata": {
      "needs_background": "light"
     },
     "output_type": "display_data"
    }
   ],
   "source": [
    "plt.plot(np.mean(np.array(track), axis=1), label=\"Validation loss\")\n",
    "plt.legend()\n",
    "plt.ylabel(\"Loss\")\n",
    "plt.xlabel(\"Iterations\")"
   ]
  },
  {
   "cell_type": "code",
   "execution_count": 31,
   "metadata": {},
   "outputs": [
    {
     "data": {
      "text/plain": [
       "9.78"
      ]
     },
     "execution_count": 31,
     "metadata": {},
     "output_type": "execute_result"
    }
   ],
   "source": [
    "getAccuracy(xval, t_test, params)"
   ]
  }
 ],
 "metadata": {
  "kernelspec": {
   "display_name": "Python 3",
   "language": "python",
   "name": "python3"
  },
  "language_info": {
   "codemirror_mode": {
    "name": "ipython",
    "version": 3
   },
   "file_extension": ".py",
   "mimetype": "text/x-python",
   "name": "python",
   "nbconvert_exporter": "python",
   "pygments_lexer": "ipython3",
   "version": "3.10.8 (tags/v3.10.8:aaaf517, Oct 11 2022, 16:50:30) [MSC v.1933 64 bit (AMD64)]"
  },
  "vscode": {
   "interpreter": {
    "hash": "ffecc0eebf6e3a253e8ff529656aaf0c092807fe847ee0a4ce43fc01cb8e6e6c"
   }
  }
 },
 "nbformat": 4,
 "nbformat_minor": 4
}
